{
 "cells": [
  {
   "cell_type": "markdown",
   "id": "58401cfe",
   "metadata": {},
   "source": [
    "# Data Science Tools and Ecosystem"
   ]
  },
  {
   "cell_type": "markdown",
   "id": "1f459c9e",
   "metadata": {},
   "source": [
    "In this notebook, Data Science Tools and Ecosystem are summarized."
   ]
  },
  {
   "cell_type": "markdown",
   "id": "15904f5d",
   "metadata": {},
   "source": [
    "**Objectives:**\n",
    "- list popular languages of data science\n",
    "- libraries for ds\n",
    "- ds tools\n",
    "- python arithmetic examples"
   ]
  },
  {
   "cell_type": "markdown",
   "id": "185b331b",
   "metadata": {},
   "source": [
    "Some of the popular languages that Data Scientists use are:"
   ]
  },
  {
   "cell_type": "markdown",
   "id": "a5b3c12d",
   "metadata": {},
   "source": [
    "1. python\n",
    "2. sql\n",
    "3. r \n",
    "4. scala\n"
   ]
  },
  {
   "cell_type": "markdown",
   "id": "dd63050c",
   "metadata": {},
   "source": [
    "Some of the commonly used libraries used by Data Scientists include:"
   ]
  },
  {
   "cell_type": "markdown",
   "id": "6ffcece0",
   "metadata": {},
   "source": [
    "- numpy \n",
    "- pandas\n",
    "- matplotlib \n",
    "- sckit-learn\n",
    "- keras "
   ]
  },
  {
   "cell_type": "markdown",
   "id": "e54a75a5",
   "metadata": {},
   "source": [
    "|data science tools|\n",
    "|:--:|\n",
    "|Rstudio|\n",
    "|Apache spark|\n",
    "|tableau|"
   ]
  },
  {
   "cell_type": "markdown",
   "id": "d5bb1366",
   "metadata": {},
   "source": [
    "### Below are a few examples of evaluating arithmetic expressions in Python"
   ]
  },
  {
   "cell_type": "code",
   "execution_count": 2,
   "id": "8d6904e1",
   "metadata": {
    "ExecuteTime": {
     "end_time": "2023-06-23T09:10:08.365245Z",
     "start_time": "2023-06-23T09:10:08.349837Z"
    }
   },
   "outputs": [
    {
     "name": "stdout",
     "output_type": "stream",
     "text": [
      "17\n",
      "72\n",
      "-1\n",
      "0.8888888888888888\n"
     ]
    }
   ],
   "source": [
    "i=8+9\n",
    "print(i)\n",
    "i=8*9\n",
    "print(i)\n",
    "i=8-9\n",
    "print(i)\n",
    "i=8/9\n",
    "print(i)"
   ]
  },
  {
   "cell_type": "code",
   "execution_count": 3,
   "id": "edf6b3b9",
   "metadata": {
    "ExecuteTime": {
     "end_time": "2023-06-23T09:13:02.038599Z",
     "start_time": "2023-06-23T09:13:02.025828Z"
    }
   },
   "outputs": [
    {
     "name": "stdout",
     "output_type": "stream",
     "text": [
      "17\n"
     ]
    }
   ],
   "source": [
    "#This a simple arithmetic expression to mutiply then add integers\n",
    "print((3*4)+5)"
   ]
  },
  {
   "cell_type": "code",
   "execution_count": 4,
   "id": "80165a64",
   "metadata": {
    "ExecuteTime": {
     "end_time": "2023-06-23T09:16:01.597236Z",
     "start_time": "2023-06-23T09:16:01.581542Z"
    }
   },
   "outputs": [
    {
     "name": "stdout",
     "output_type": "stream",
     "text": [
      "3\n"
     ]
    }
   ],
   "source": [
    "#This will convert 200 minutes to hours by diving by 60.\n",
    "print(200//60)"
   ]
  },
  {
   "cell_type": "markdown",
   "id": "cc9efaa5",
   "metadata": {},
   "source": [
    "## Author\n",
    "Yashmala"
   ]
  },
  {
   "cell_type": "code",
   "execution_count": null,
   "id": "2b65eaeb",
   "metadata": {},
   "outputs": [],
   "source": []
  }
 ],
 "metadata": {
  "kernelspec": {
   "display_name": "Python 3 (ipykernel)",
   "language": "python",
   "name": "python3"
  },
  "language_info": {
   "codemirror_mode": {
    "name": "ipython",
    "version": 3
   },
   "file_extension": ".py",
   "mimetype": "text/x-python",
   "name": "python",
   "nbconvert_exporter": "python",
   "pygments_lexer": "ipython3",
   "version": "3.9.13"
  },
  "toc": {
   "base_numbering": 1,
   "nav_menu": {},
   "number_sections": true,
   "sideBar": true,
   "skip_h1_title": false,
   "title_cell": "Table of Contents",
   "title_sidebar": "Contents",
   "toc_cell": false,
   "toc_position": {},
   "toc_section_display": true,
   "toc_window_display": true
  },
  "varInspector": {
   "cols": {
    "lenName": 16,
    "lenType": 16,
    "lenVar": 40
   },
   "kernels_config": {
    "python": {
     "delete_cmd_postfix": "",
     "delete_cmd_prefix": "del ",
     "library": "var_list.py",
     "varRefreshCmd": "print(var_dic_list())"
    },
    "r": {
     "delete_cmd_postfix": ") ",
     "delete_cmd_prefix": "rm(",
     "library": "var_list.r",
     "varRefreshCmd": "cat(var_dic_list()) "
    }
   },
   "types_to_exclude": [
    "module",
    "function",
    "builtin_function_or_method",
    "instance",
    "_Feature"
   ],
   "window_display": false
  }
 },
 "nbformat": 4,
 "nbformat_minor": 5
}
